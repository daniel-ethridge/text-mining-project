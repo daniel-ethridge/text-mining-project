{
 "cells": [
  {
   "cell_type": "code",
   "execution_count": 25,
   "id": "0fd8a792",
   "metadata": {},
   "outputs": [],
   "source": [
    "import csv\n",
    "import time"
   ]
  },
  {
   "cell_type": "code",
   "execution_count": 10,
   "id": "a79ebb83",
   "metadata": {},
   "outputs": [],
   "source": [
    "articles = []\n",
    "with open(\"../text-mining-project-data/dirty/arm-data-dirty.csv\", \"r\") as f:\n",
    "    reader = csv.reader(f)\n",
    "    for row in reader:\n",
    "        articles.append(row)"
   ]
  },
  {
   "cell_type": "code",
   "execution_count": 52,
   "id": "c5a70c57",
   "metadata": {},
   "outputs": [],
   "source": [
    "bad_words = [\"follow\", \"newsletter\", \"disinformation\", \"daily\", \"jones\", \"fight\", \"sign\", \"up\", \"for\", \"free\",\n",
    "             \"mother\", \"follow\", \"news\", \"that\", \"matters\", \"just\", \"dont\", \"told\", \"did\", \"like\", \"old\", \"years\",\n",
    "            \"guns\", \"got\", \"lot\", \"im\", \"know\", \"going\", \"think\", \"way\", \"lot\", \"thats\", \"theres\", \"says\", \"say\", \n",
    "            \"come\", \"didnt\", \"15\", \"10\"]\n",
    "clean_articles = [[word for word in article if word not in bad_words] for article in articles]"
   ]
  },
  {
   "cell_type": "code",
   "execution_count": 53,
   "id": "4dc908e1",
   "metadata": {},
   "outputs": [],
   "source": [
    "with open(\"../text-mining-project-data/clean/arm-data-clean.csv\", \"w\") as f:\n",
    "    writer = csv.writer(f)\n",
    "    writer.writerows(clean_articles)"
   ]
  },
  {
   "cell_type": "code",
   "execution_count": null,
   "id": "32c598b7",
   "metadata": {},
   "outputs": [],
   "source": []
  },
  {
   "cell_type": "code",
   "execution_count": null,
   "id": "1ce8ff11",
   "metadata": {},
   "outputs": [],
   "source": []
  }
 ],
 "metadata": {
  "kernelspec": {
   "display_name": "text-mining-class",
   "language": "python",
   "name": "text-mining-class"
  },
  "language_info": {
   "codemirror_mode": {
    "name": "ipython",
    "version": 3
   },
   "file_extension": ".py",
   "mimetype": "text/x-python",
   "name": "python",
   "nbconvert_exporter": "python",
   "pygments_lexer": "ipython3",
   "version": "3.10.12"
  }
 },
 "nbformat": 4,
 "nbformat_minor": 5
}
